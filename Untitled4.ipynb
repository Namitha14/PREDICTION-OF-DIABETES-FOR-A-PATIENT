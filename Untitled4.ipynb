{
  "nbformat": 4,
  "nbformat_minor": 0,
  "metadata": {
    "colab": {
      "name": "Untitled4.ipynb",
      "provenance": []
    },
    "kernelspec": {
      "name": "python3",
      "display_name": "Python 3"
    }
  },
  "cells": [
    {
      "cell_type": "code",
      "metadata": {
        "id": "3gTE-oqBe81E",
        "colab_type": "code",
        "colab": {
          "base_uri": "https://localhost:8080/",
          "height": 402
        },
        "outputId": "76dd82c8-2d11-464f-a034-26f01c6a2cb1"
      },
      "source": [
        "import pandas as pd\n",
        "df=pd.read_csv(\"diabetes.csv\",header=None)\n",
        "h=['Pregnancies','Glucose','BP','SkinThickness','Insulin','BMI','Diabetesfunc','Age','Outcome']\n",
        "df.columns=h\n",
        "df"
      ],
      "execution_count": 53,
      "outputs": [
        {
          "output_type": "execute_result",
          "data": {
            "text/html": [
              "<div>\n",
              "<style scoped>\n",
              "    .dataframe tbody tr th:only-of-type {\n",
              "        vertical-align: middle;\n",
              "    }\n",
              "\n",
              "    .dataframe tbody tr th {\n",
              "        vertical-align: top;\n",
              "    }\n",
              "\n",
              "    .dataframe thead th {\n",
              "        text-align: right;\n",
              "    }\n",
              "</style>\n",
              "<table border=\"1\" class=\"dataframe\">\n",
              "  <thead>\n",
              "    <tr style=\"text-align: right;\">\n",
              "      <th></th>\n",
              "      <th>Pregnancies</th>\n",
              "      <th>Glucose</th>\n",
              "      <th>BP</th>\n",
              "      <th>SkinThickness</th>\n",
              "      <th>Insulin</th>\n",
              "      <th>BMI</th>\n",
              "      <th>Diabetesfunc</th>\n",
              "      <th>Age</th>\n",
              "      <th>Outcome</th>\n",
              "    </tr>\n",
              "  </thead>\n",
              "  <tbody>\n",
              "    <tr>\n",
              "      <th>0</th>\n",
              "      <td>6</td>\n",
              "      <td>148</td>\n",
              "      <td>72</td>\n",
              "      <td>35</td>\n",
              "      <td>0</td>\n",
              "      <td>33.6</td>\n",
              "      <td>0.627</td>\n",
              "      <td>50</td>\n",
              "      <td>1</td>\n",
              "    </tr>\n",
              "    <tr>\n",
              "      <th>1</th>\n",
              "      <td>1</td>\n",
              "      <td>85</td>\n",
              "      <td>66</td>\n",
              "      <td>29</td>\n",
              "      <td>0</td>\n",
              "      <td>26.6</td>\n",
              "      <td>0.351</td>\n",
              "      <td>31</td>\n",
              "      <td>0</td>\n",
              "    </tr>\n",
              "    <tr>\n",
              "      <th>2</th>\n",
              "      <td>8</td>\n",
              "      <td>183</td>\n",
              "      <td>64</td>\n",
              "      <td>0</td>\n",
              "      <td>0</td>\n",
              "      <td>23.3</td>\n",
              "      <td>0.672</td>\n",
              "      <td>32</td>\n",
              "      <td>1</td>\n",
              "    </tr>\n",
              "    <tr>\n",
              "      <th>3</th>\n",
              "      <td>1</td>\n",
              "      <td>89</td>\n",
              "      <td>66</td>\n",
              "      <td>23</td>\n",
              "      <td>94</td>\n",
              "      <td>28.1</td>\n",
              "      <td>0.167</td>\n",
              "      <td>21</td>\n",
              "      <td>0</td>\n",
              "    </tr>\n",
              "    <tr>\n",
              "      <th>4</th>\n",
              "      <td>0</td>\n",
              "      <td>137</td>\n",
              "      <td>40</td>\n",
              "      <td>35</td>\n",
              "      <td>168</td>\n",
              "      <td>43.1</td>\n",
              "      <td>2.288</td>\n",
              "      <td>33</td>\n",
              "      <td>1</td>\n",
              "    </tr>\n",
              "    <tr>\n",
              "      <th>...</th>\n",
              "      <td>...</td>\n",
              "      <td>...</td>\n",
              "      <td>...</td>\n",
              "      <td>...</td>\n",
              "      <td>...</td>\n",
              "      <td>...</td>\n",
              "      <td>...</td>\n",
              "      <td>...</td>\n",
              "      <td>...</td>\n",
              "    </tr>\n",
              "    <tr>\n",
              "      <th>763</th>\n",
              "      <td>10</td>\n",
              "      <td>101</td>\n",
              "      <td>76</td>\n",
              "      <td>48</td>\n",
              "      <td>180</td>\n",
              "      <td>32.9</td>\n",
              "      <td>0.171</td>\n",
              "      <td>63</td>\n",
              "      <td>0</td>\n",
              "    </tr>\n",
              "    <tr>\n",
              "      <th>764</th>\n",
              "      <td>2</td>\n",
              "      <td>122</td>\n",
              "      <td>70</td>\n",
              "      <td>27</td>\n",
              "      <td>0</td>\n",
              "      <td>36.8</td>\n",
              "      <td>0.340</td>\n",
              "      <td>27</td>\n",
              "      <td>0</td>\n",
              "    </tr>\n",
              "    <tr>\n",
              "      <th>765</th>\n",
              "      <td>5</td>\n",
              "      <td>121</td>\n",
              "      <td>72</td>\n",
              "      <td>23</td>\n",
              "      <td>112</td>\n",
              "      <td>26.2</td>\n",
              "      <td>0.245</td>\n",
              "      <td>30</td>\n",
              "      <td>0</td>\n",
              "    </tr>\n",
              "    <tr>\n",
              "      <th>766</th>\n",
              "      <td>1</td>\n",
              "      <td>126</td>\n",
              "      <td>60</td>\n",
              "      <td>0</td>\n",
              "      <td>0</td>\n",
              "      <td>30.1</td>\n",
              "      <td>0.349</td>\n",
              "      <td>47</td>\n",
              "      <td>1</td>\n",
              "    </tr>\n",
              "    <tr>\n",
              "      <th>767</th>\n",
              "      <td>1</td>\n",
              "      <td>93</td>\n",
              "      <td>70</td>\n",
              "      <td>31</td>\n",
              "      <td>0</td>\n",
              "      <td>30.4</td>\n",
              "      <td>0.315</td>\n",
              "      <td>23</td>\n",
              "      <td>0</td>\n",
              "    </tr>\n",
              "  </tbody>\n",
              "</table>\n",
              "<p>768 rows × 9 columns</p>\n",
              "</div>"
            ],
            "text/plain": [
              "     Pregnancies  Glucose  BP  SkinThickness  ...   BMI  Diabetesfunc  Age  Outcome\n",
              "0              6      148  72             35  ...  33.6         0.627   50        1\n",
              "1              1       85  66             29  ...  26.6         0.351   31        0\n",
              "2              8      183  64              0  ...  23.3         0.672   32        1\n",
              "3              1       89  66             23  ...  28.1         0.167   21        0\n",
              "4              0      137  40             35  ...  43.1         2.288   33        1\n",
              "..           ...      ...  ..            ...  ...   ...           ...  ...      ...\n",
              "763           10      101  76             48  ...  32.9         0.171   63        0\n",
              "764            2      122  70             27  ...  36.8         0.340   27        0\n",
              "765            5      121  72             23  ...  26.2         0.245   30        0\n",
              "766            1      126  60              0  ...  30.1         0.349   47        1\n",
              "767            1       93  70             31  ...  30.4         0.315   23        0\n",
              "\n",
              "[768 rows x 9 columns]"
            ]
          },
          "metadata": {
            "tags": []
          },
          "execution_count": 53
        }
      ]
    },
    {
      "cell_type": "code",
      "metadata": {
        "id": "qTg5fLBSNp2t",
        "colab_type": "code",
        "colab": {
          "base_uri": "https://localhost:8080/",
          "height": 304
        },
        "outputId": "f186ae94-8b4b-4921-bb31-3edfb2f6ff2b"
      },
      "source": [
        "df.describe()\n"
      ],
      "execution_count": 54,
      "outputs": [
        {
          "output_type": "execute_result",
          "data": {
            "text/html": [
              "<div>\n",
              "<style scoped>\n",
              "    .dataframe tbody tr th:only-of-type {\n",
              "        vertical-align: middle;\n",
              "    }\n",
              "\n",
              "    .dataframe tbody tr th {\n",
              "        vertical-align: top;\n",
              "    }\n",
              "\n",
              "    .dataframe thead th {\n",
              "        text-align: right;\n",
              "    }\n",
              "</style>\n",
              "<table border=\"1\" class=\"dataframe\">\n",
              "  <thead>\n",
              "    <tr style=\"text-align: right;\">\n",
              "      <th></th>\n",
              "      <th>Pregnancies</th>\n",
              "      <th>Glucose</th>\n",
              "      <th>BP</th>\n",
              "      <th>SkinThickness</th>\n",
              "      <th>Insulin</th>\n",
              "      <th>BMI</th>\n",
              "      <th>Diabetesfunc</th>\n",
              "      <th>Age</th>\n",
              "      <th>Outcome</th>\n",
              "    </tr>\n",
              "  </thead>\n",
              "  <tbody>\n",
              "    <tr>\n",
              "      <th>count</th>\n",
              "      <td>768.000000</td>\n",
              "      <td>768.000000</td>\n",
              "      <td>768.000000</td>\n",
              "      <td>768.000000</td>\n",
              "      <td>768.000000</td>\n",
              "      <td>768.000000</td>\n",
              "      <td>768.000000</td>\n",
              "      <td>768.000000</td>\n",
              "      <td>768.000000</td>\n",
              "    </tr>\n",
              "    <tr>\n",
              "      <th>mean</th>\n",
              "      <td>3.845052</td>\n",
              "      <td>120.894531</td>\n",
              "      <td>69.105469</td>\n",
              "      <td>20.536458</td>\n",
              "      <td>79.799479</td>\n",
              "      <td>31.992578</td>\n",
              "      <td>0.471876</td>\n",
              "      <td>33.240885</td>\n",
              "      <td>0.348958</td>\n",
              "    </tr>\n",
              "    <tr>\n",
              "      <th>std</th>\n",
              "      <td>3.369578</td>\n",
              "      <td>31.972618</td>\n",
              "      <td>19.355807</td>\n",
              "      <td>15.952218</td>\n",
              "      <td>115.244002</td>\n",
              "      <td>7.884160</td>\n",
              "      <td>0.331329</td>\n",
              "      <td>11.760232</td>\n",
              "      <td>0.476951</td>\n",
              "    </tr>\n",
              "    <tr>\n",
              "      <th>min</th>\n",
              "      <td>0.000000</td>\n",
              "      <td>0.000000</td>\n",
              "      <td>0.000000</td>\n",
              "      <td>0.000000</td>\n",
              "      <td>0.000000</td>\n",
              "      <td>0.000000</td>\n",
              "      <td>0.078000</td>\n",
              "      <td>21.000000</td>\n",
              "      <td>0.000000</td>\n",
              "    </tr>\n",
              "    <tr>\n",
              "      <th>25%</th>\n",
              "      <td>1.000000</td>\n",
              "      <td>99.000000</td>\n",
              "      <td>62.000000</td>\n",
              "      <td>0.000000</td>\n",
              "      <td>0.000000</td>\n",
              "      <td>27.300000</td>\n",
              "      <td>0.243750</td>\n",
              "      <td>24.000000</td>\n",
              "      <td>0.000000</td>\n",
              "    </tr>\n",
              "    <tr>\n",
              "      <th>50%</th>\n",
              "      <td>3.000000</td>\n",
              "      <td>117.000000</td>\n",
              "      <td>72.000000</td>\n",
              "      <td>23.000000</td>\n",
              "      <td>30.500000</td>\n",
              "      <td>32.000000</td>\n",
              "      <td>0.372500</td>\n",
              "      <td>29.000000</td>\n",
              "      <td>0.000000</td>\n",
              "    </tr>\n",
              "    <tr>\n",
              "      <th>75%</th>\n",
              "      <td>6.000000</td>\n",
              "      <td>140.250000</td>\n",
              "      <td>80.000000</td>\n",
              "      <td>32.000000</td>\n",
              "      <td>127.250000</td>\n",
              "      <td>36.600000</td>\n",
              "      <td>0.626250</td>\n",
              "      <td>41.000000</td>\n",
              "      <td>1.000000</td>\n",
              "    </tr>\n",
              "    <tr>\n",
              "      <th>max</th>\n",
              "      <td>17.000000</td>\n",
              "      <td>199.000000</td>\n",
              "      <td>122.000000</td>\n",
              "      <td>99.000000</td>\n",
              "      <td>846.000000</td>\n",
              "      <td>67.100000</td>\n",
              "      <td>2.420000</td>\n",
              "      <td>81.000000</td>\n",
              "      <td>1.000000</td>\n",
              "    </tr>\n",
              "  </tbody>\n",
              "</table>\n",
              "</div>"
            ],
            "text/plain": [
              "       Pregnancies     Glucose  ...         Age     Outcome\n",
              "count   768.000000  768.000000  ...  768.000000  768.000000\n",
              "mean      3.845052  120.894531  ...   33.240885    0.348958\n",
              "std       3.369578   31.972618  ...   11.760232    0.476951\n",
              "min       0.000000    0.000000  ...   21.000000    0.000000\n",
              "25%       1.000000   99.000000  ...   24.000000    0.000000\n",
              "50%       3.000000  117.000000  ...   29.000000    0.000000\n",
              "75%       6.000000  140.250000  ...   41.000000    1.000000\n",
              "max      17.000000  199.000000  ...   81.000000    1.000000\n",
              "\n",
              "[8 rows x 9 columns]"
            ]
          },
          "metadata": {
            "tags": []
          },
          "execution_count": 54
        }
      ]
    },
    {
      "cell_type": "code",
      "metadata": {
        "id": "gv9gHVJaNxlq",
        "colab_type": "code",
        "colab": {
          "base_uri": "https://localhost:8080/",
          "height": 286
        },
        "outputId": "bd1e3c86-388f-4166-c455-57946c295e46"
      },
      "source": [
        "df.info()"
      ],
      "execution_count": 55,
      "outputs": [
        {
          "output_type": "stream",
          "text": [
            "<class 'pandas.core.frame.DataFrame'>\n",
            "RangeIndex: 768 entries, 0 to 767\n",
            "Data columns (total 9 columns):\n",
            " #   Column         Non-Null Count  Dtype  \n",
            "---  ------         --------------  -----  \n",
            " 0   Pregnancies    768 non-null    int64  \n",
            " 1   Glucose        768 non-null    int64  \n",
            " 2   BP             768 non-null    int64  \n",
            " 3   SkinThickness  768 non-null    int64  \n",
            " 4   Insulin        768 non-null    int64  \n",
            " 5   BMI            768 non-null    float64\n",
            " 6   Diabetesfunc   768 non-null    float64\n",
            " 7   Age            768 non-null    int64  \n",
            " 8   Outcome        768 non-null    int64  \n",
            "dtypes: float64(2), int64(7)\n",
            "memory usage: 54.1 KB\n"
          ],
          "name": "stdout"
        }
      ]
    },
    {
      "cell_type": "code",
      "metadata": {
        "id": "cJpVMsstClH8",
        "colab_type": "code",
        "colab": {
          "base_uri": "https://localhost:8080/",
          "height": 519
        },
        "outputId": "5ea21894-6077-4fcc-9156-5340e462ac75"
      },
      "source": [
        "import matplotlib.pyplot as plt\n",
        "plt.figure(figsize=(15,75))\n",
        "for i in range(len(h)):\n",
        "  plt.subplot(19,3,i+1)\n",
        "  plt.hist(df[h[i]])\n",
        "  plt.title(h[i])"
      ],
      "execution_count": 2,
      "outputs": [
        {
          "output_type": "display_data",
          "data": {
            "image/png": "[encoded data removed]",
            "text/plain": [
              "<Figure size 1080x5400 with 9 Axes>"
            ]
          },
          "metadata": {
            "tags": [],
            "needs_background": "light"
          }
        }
      ]
    },
    {
      "cell_type": "code",
      "metadata": {
        "id": "gt1JT9AfmOyn",
        "colab_type": "code",
        "colab": {
          "base_uri": "https://localhost:8080/",
          "height": 282
        },
        "outputId": "60e9b184-e79b-4336-d352-a6fb3282d21b"
      },
      "source": [
        "X=df.drop(['Outcome'],axis=1)\n",
        "Y=df['Outcome']\n",
        "#LinearRegressionKNN\n",
        "from sklearn.neighbors import KNeighborsClassifier\n",
        "from sklearn.model_selection import train_test_split\n",
        "import matplotlib.pyplot as plt\n",
        "ts=[]\n",
        "tr=[]\n",
        "for i in range(1,20):\n",
        "  kmodel=KNeighborsClassifier(n_neighbors=i)\n",
        "  xtrain,xtest,ytrain,ytest=train_test_split(X,Y,random_state=66)\n",
        "  kmodel.fit(xtrain,ytrain)\n",
        "  Yp_train=kmodel.predict(xtrain)\n",
        "  Yp_test=kmodel.predict(xtest)\n",
        "  tr.append(((ytrain==Yp_train).sum())/len(xtrain))\n",
        "  ts.append(((ytest==Yp_test).sum())/len(xtest))\n",
        "plt.plot(range(1,20),tr)\n",
        "plt.plot(range(1,20),ts,color='red')\n",
        "\n",
        "\n"
      ],
      "execution_count": 3,
      "outputs": [
        {
          "output_type": "execute_result",
          "data": {
            "text/plain": [
              "[<matplotlib.lines.Line2D at 0x7f61bb38ff98>]"
            ]
          },
          "metadata": {
            "tags": []
          },
          "execution_count": 3
        },
        {
          "output_type": "display_data",
          "data": {
            "image/png": "[encoded data removed]",
            "text/plain": [
              "<Figure size 432x288 with 1 Axes>"
            ]
          },
          "metadata": {
            "tags": [],
            "needs_background": "light"
          }
        }
      ]
    },
    {
      "cell_type": "code",
      "metadata": {
        "id": "EGDTFEaokmBg",
        "colab_type": "code",
        "colab": {
          "base_uri": "https://localhost:8080/",
          "height": 34
        },
        "outputId": "a1de2dcc-c725-46a9-fcf2-7d765f7d8653"
      },
      "source": [
        "X=df.drop(['Outcome'],axis=1)\n",
        "Y=df['Outcome']\n",
        "#LinearRegressionKNN\n",
        "from sklearn.neighbors import KNeighborsClassifier\n",
        "kmodel=KNeighborsClassifier(n_neighbors=11)\n",
        "kmodel.fit(X,Y)\n",
        "Yp=kmodel.predict(X)\n",
        "(Y==Yp).sum()/len(df)\n"
      ],
      "execution_count": 4,
      "outputs": [
        {
          "output_type": "execute_result",
          "data": {
            "text/plain": [
              "0.7864583333333334"
            ]
          },
          "metadata": {
            "tags": []
          },
          "execution_count": 4
        }
      ]
    },
    {
      "cell_type": "code",
      "metadata": {
        "id": "kC8rYNYzrbyD",
        "colab_type": "code",
        "colab": {}
      },
      "source": [
        ""
      ],
      "execution_count": null,
      "outputs": []
    },
    {
      "cell_type": "code",
      "metadata": {
        "id": "ceTNop-1o_6m",
        "colab_type": "code",
        "colab": {
          "base_uri": "https://localhost:8080/",
          "height": 84
        },
        "outputId": "b29ea755-f176-45cf-919e-6497295aaad6"
      },
      "source": [
        "#linearregression\n",
        "from sklearn.linear_model import LinearRegression\n",
        "import matplotlib.pyplot as plt\n",
        "lmodel=LinearRegression()\n",
        "lmodel.fit(X,Y)\n",
        "Yp2=lmodel.predict(X)\n",
        "from sklearn.metrics import mean_absolute_error\n",
        "print(mean_absolute_error(Y,Yp2))\n",
        "print(lmodel.score(xtrain,ytrain))\n",
        "print(lmodel.score(xtest,ytest))\n",
        "lmodel.predict([[6,148,72,35,0,33.6,0.627,50]])\n",
        "#plt.scatter(xtrain,ytrain,color=\"red\")\n"
      ],
      "execution_count": 5,
      "outputs": [
        {
          "output_type": "stream",
          "text": [
            "0.3322003297974105\n",
            "0.30149084824277295\n",
            "0.29938023318644313\n"
          ],
          "name": "stdout"
        },
        {
          "output_type": "execute_result",
          "data": {
            "text/plain": [
              "array([0.65175729])"
            ]
          },
          "metadata": {
            "tags": []
          },
          "execution_count": 5
        }
      ]
    },
    {
      "cell_type": "code",
      "metadata": {
        "id": "W7WY3WpsBbVj",
        "colab_type": "code",
        "colab": {
          "base_uri": "https://localhost:8080/",
          "height": 289
        },
        "outputId": "6c012b3f-ce01-4113-ed2a-357d1fb83364"
      },
      "source": [
        "#LogisticRegression\n",
        "from sklearn.linear_model import LogisticRegression\n",
        "lgr=LogisticRegression()\n",
        "lgr.fit(xtrain,ytrain)\n",
        "ypr=lgr.predict(xtrain)\n",
        "from sklearn import metrics\n",
        "cnf=metrics.confusion_matrix(ytrain,ypr)\n",
        "print(cnf)\n",
        "print(lgr.score(xtrain,ytrain))\n",
        "#print(lgr.score(ypr,ytest))\n",
        "print(lgr.score(xtest,ytest))\n",
        "print(\"accuracy\",metrics.accuracy_score(ytrain,ypr))\n",
        "print(\"precision\",metrics.precision_score(ytrain,ypr))\n",
        "lgr.predict([[6,148,72,35,0,33.6,0.627,50]])"
      ],
      "execution_count": 6,
      "outputs": [
        {
          "output_type": "stream",
          "text": [
            "[[321  45]\n",
            " [ 87 123]]\n",
            "0.7708333333333334\n",
            "0.7916666666666666\n",
            "accuracy 0.7708333333333334\n",
            "precision 0.7321428571428571\n"
          ],
          "name": "stdout"
        },
        {
          "output_type": "stream",
          "text": [
            "/usr/local/lib/python3.6/dist-packages/sklearn/linear_model/_logistic.py:940: ConvergenceWarning: lbfgs failed to converge (status=1):\n",
            "STOP: TOTAL NO. of ITERATIONS REACHED LIMIT.\n",
            "\n",
            "Increase the number of iterations (max_iter) or scale the data as shown in:\n",
            "    https://scikit-learn.org/stable/modules/preprocessing.html\n",
            "Please also refer to the documentation for alternative solver options:\n",
            "    https://scikit-learn.org/stable/modules/linear_model.html#logistic-regression\n",
            "  extra_warning_msg=_LOGISTIC_SOLVER_CONVERGENCE_MSG)\n"
          ],
          "name": "stderr"
        },
        {
          "output_type": "execute_result",
          "data": {
            "text/plain": [
              "array([1])"
            ]
          },
          "metadata": {
            "tags": []
          },
          "execution_count": 6
        }
      ]
    },
    {
      "cell_type": "code",
      "metadata": {
        "id": "fBLyAuj4PPud",
        "colab_type": "code",
        "colab": {
          "base_uri": "https://localhost:8080/",
          "height": 483
        },
        "outputId": "2b3a8fcd-e007-4ea8-ffba-a1fe00b0a83c"
      },
      "source": [
        "f,a=plt.subplots(figsize=(8,8))\n",
        "a.imshow(cnf)\n",
        "a.grid(False)\n",
        "a.xaxis.set(ticks=(0,1),ticklabels=('predicted ','predicted '))\n",
        "a.yaxis.set(ticks=(0,1),ticklabels=('actual ','actual '))\n",
        "a.set_ylim(1.5,-0.5)\n",
        "for i in range(2):\n",
        "  for j in range(2):\n",
        "    a.text(j,i,cnf[i,j],ha='center',va='center',color='red')\n",
        "plt.show()"
      ],
      "execution_count": 59,
      "outputs": [
        {
          "output_type": "display_data",
          "data": {
            "image/png": "[encoded data removed]",
            "text/plain": [
              "<Figure size 576x576 with 1 Axes>"
            ]
          },
          "metadata": {
            "tags": [],
            "needs_background": "light"
          }
        }
      ]
    },
    {
      "cell_type": "code",
      "metadata": {
        "id": "plhE4KPoSEox",
        "colab_type": "code",
        "colab": {
          "base_uri": "https://localhost:8080/",
          "height": 168
        },
        "outputId": "31bed8c9-a11a-47dc-f1ec-6a6aefe1cab1"
      },
      "source": [
        "from sklearn.metrics import classification_report\n",
        "print(classification_report(ytrain,ypr))"
      ],
      "execution_count": 60,
      "outputs": [
        {
          "output_type": "stream",
          "text": [
            "              precision    recall  f1-score   support\n",
            "\n",
            "           0       0.79      0.88      0.83       366\n",
            "           1       0.73      0.59      0.65       210\n",
            "\n",
            "    accuracy                           0.77       576\n",
            "   macro avg       0.76      0.73      0.74       576\n",
            "weighted avg       0.77      0.77      0.76       576\n",
            "\n"
          ],
          "name": "stdout"
        }
      ]
    },
    {
      "cell_type": "code",
      "metadata": {
        "id": "tcZbEka_VTXl",
        "colab_type": "code",
        "colab": {
          "base_uri": "https://localhost:8080/",
          "height": 34
        },
        "outputId": "96a9d618-8133-4160-9a6a-24b64f4ded8d"
      },
      "source": [
        "#PolynomialRegression\n",
        "from sklearn.preprocessing import PolynomialFeatures\n",
        "pol=PolynomialFeatures(degree=2)\n",
        "x=pol.fit_transform(X)\n",
        "xtrain0,xtest0,ytrain0,ytest0=train_test_split(x,Y,random_state=6)\n",
        "lmodel_p=LinearRegression()\n",
        "lmodel_p.fit(xtrain0,ytrain0)\n",
        "ypredict=lmodel_p.predict(xtest0)\n",
        "print(lmodel_p.score(xtest0,ytest0))\n",
        "#print(lmodel_p.score(,ytest0))\n",
        "\n",
        "\n"
      ],
      "execution_count": 8,
      "outputs": [
        {
          "output_type": "stream",
          "text": [
            "0.30839095999153343\n"
          ],
          "name": "stdout"
        }
      ]
    },
    {
      "cell_type": "code",
      "metadata": {
        "id": "ha_IB7zcvWuU",
        "colab_type": "code",
        "colab": {
          "base_uri": "https://localhost:8080/",
          "height": 84
        },
        "outputId": "441202c8-b727-4dfa-dc1f-42f34f55f013"
      },
      "source": [
        "#RandomForest\n",
        "from sklearn.ensemble import RandomForestClassifier\n",
        "nmodel=RandomForestClassifier(n_estimators=8,max_features='auto',min_samples_split=4,min_samples_leaf=5)\n",
        "nmodel.fit(xtrain,ytrain)\n",
        "yp=nmodel.predict(xtrain)\n",
        "print(mean_absolute_error(yp,ytrain))\n",
        "print(nmodel.score(xtrain,ytrain))\n",
        "print(nmodel.score(xtest,ytest))\n",
        "nmodel.predict([[10,101,76,48,180,32.9,0.171,63]])\n"
      ],
      "execution_count": 9,
      "outputs": [
        {
          "output_type": "stream",
          "text": [
            "0.140625\n",
            "0.859375\n",
            "0.7447916666666666\n"
          ],
          "name": "stdout"
        },
        {
          "output_type": "execute_result",
          "data": {
            "text/plain": [
              "array([0])"
            ]
          },
          "metadata": {
            "tags": []
          },
          "execution_count": 9
        }
      ]
    },
    {
      "cell_type": "code",
      "metadata": {
        "id": "SDqZy5SlyXOo",
        "colab_type": "code",
        "colab": {
          "base_uri": "https://localhost:8080/",
          "height": 84
        },
        "outputId": "50017b17-2dfb-448e-ae71-2d8519128e4e"
      },
      "source": [
        "#DecicisonTree\n",
        "from sklearn.tree import DecisionTreeClassifier\n",
        "dmodel= DecisionTreeClassifier(max_depth=2)\n",
        "dmodel.fit(xtrain,ytrain)\n",
        "yp1=dmodel.predict(xtrain)\n",
        "print(mean_absolute_error(yp1,ytrain))\n",
        "print(dmodel.score(xtrain,ytrain))\n",
        "print(dmodel.score(xtest,ytest))\n",
        "dmodel.predict([[10,101,76,48,180,32.9,0.171,63]])\n",
        "\n"
      ],
      "execution_count": 10,
      "outputs": [
        {
          "output_type": "stream",
          "text": [
            "0.265625\n",
            "0.734375\n",
            "0.765625\n"
          ],
          "name": "stdout"
        },
        {
          "output_type": "execute_result",
          "data": {
            "text/plain": [
              "array([0])"
            ]
          },
          "metadata": {
            "tags": []
          },
          "execution_count": 10
        }
      ]
    },
    {
      "cell_type": "code",
      "metadata": {
        "id": "RQox7kHbTCWm",
        "colab_type": "code",
        "colab": {
          "base_uri": "https://localhost:8080/",
          "height": 368
        },
        "outputId": "0cf2b9cc-3fc2-4fcc-bd84-72b457e7158a"
      },
      "source": [
        "from sklearn.tree import export_graphviz\n",
        "dot_data=export_graphviz(dmodel,out_file=None,feature_names=xtrain.columns,filled=True)\n",
        "from IPython.display import Image\n",
        "import pydotplus\n",
        "graph=pydotplus.graph_from_dot_data(dot_data)\n",
        "Image(graph.create_png())\n"
      ],
      "execution_count": 64,
      "outputs": [
        {
          "output_type": "execute_result",
          "data": {
            "image/png": "[encoded data removed]",
            "text/plain": [
              "<IPython.core.display.Image object>"
            ]
          },
          "metadata": {
            "tags": []
          },
          "execution_count": 64
        }
      ]
    },
    {
      "cell_type": "code",
      "metadata": {
        "id": "42nAAsgwzxN6",
        "colab_type": "code",
        "colab": {
          "base_uri": "https://localhost:8080/",
          "height": 265
        },
        "outputId": "d7089409-7eae-4c1a-c565-ed4b660540b3"
      },
      "source": [
        "tra=[]\n",
        "tsa=[]\n",
        "for i in range(1,11):\n",
        "  dmodel1= DecisionTreeClassifier(max_depth=i)\n",
        "  dmodel1.fit(xtrain,ytrain)\n",
        "  yp2=dmodel.predict(xtrain)\n",
        "  tra.append(dmodel1.score(xtrain,ytrain))\n",
        "  tsa.append(dmodel1.score(xtest,ytest))\n",
        "plt.plot(range(1,11),tra)\n",
        "plt.plot(range(1,11),tsa,c=\"red\")\n",
        "plt.show()"
      ],
      "execution_count": 11,
      "outputs": [
        {
          "output_type": "display_data",
          "data": {
            "image/png": "[encoded data removed]",
            "text/plain": [
              "<Figure size 432x288 with 1 Axes>"
            ]
          },
          "metadata": {
            "tags": [],
            "needs_background": "light"
          }
        }
      ]
    },
    {
      "cell_type": "code",
      "metadata": {
        "id": "9n2iZOkL1nhN",
        "colab_type": "code",
        "colab": {
          "base_uri": "https://localhost:8080/",
          "height": 265
        },
        "outputId": "49f0796a-f1a9-49ea-f2b1-3de3b518076c"
      },
      "source": [
        "from sklearn.decomposition import PCA\n",
        "from sklearn.preprocessing import StandardScaler\n",
        "#sc=StandardScaler()\n",
        "#X_sc=sc.fit_transform(X)\n",
        "trac=[]\n",
        "tsac=[]\n",
        "for i in range(1,8):\n",
        "  pca=PCA(n_components=i)\n",
        "  xpca=pca.fit_transform(X)\n",
        "  xtrain1,xtest1,ytrain1,ytest1=train_test_split(xpca,Y,random_state=40)\n",
        "  dmodel2= DecisionTreeClassifier(max_depth=2)\n",
        "  dmodel2.fit(xtrain1,ytrain1)\n",
        "  yp3=dmodel2.predict(xtrain1)\n",
        "  trac.append(dmodel2.score(xtrain1,ytrain1))\n",
        "  tsac.append(dmodel2.score(xtest1,ytest1))\n",
        "plt.plot(range(1,8),trac)\n",
        "plt.plot(range(1,8),tsac,c=\"red\")\n",
        "plt.show()"
      ],
      "execution_count": 12,
      "outputs": [
        {
          "output_type": "display_data",
          "data": {
            "image/png": "[encoded data removed]",
            "text/plain": [
              "<Figure size 432x288 with 1 Axes>"
            ]
          },
          "metadata": {
            "tags": [],
            "needs_background": "light"
          }
        }
      ]
    },
    {
      "cell_type": "code",
      "metadata": {
        "id": "a8bKWOrsRKi1",
        "colab_type": "code",
        "colab": {
          "base_uri": "https://localhost:8080/",
          "height": 265
        },
        "outputId": "4edb0639-dcff-46e9-f871-0d03d7a266a4"
      },
      "source": [
        "from sklearn.decomposition import PCA\n",
        "#sc=StandardScaler()\n",
        "#X_sc=sc.fit_transform(X)\n",
        "etr=[]\n",
        "ets=[]\n",
        "for i in range(1,8):\n",
        "  pca0=PCA(n_components=i)\n",
        "  xpca0=pca0.fit_transform(X)\n",
        "  x_train1,x_test1,y_train1,y_test1=train_test_split(xpca0,Y,random_state=6)\n",
        "  knn= KNeighborsClassifier(n_neighbors=11)\n",
        "  knn.fit(x_train1,y_train1)\n",
        "  yk=knn.predict(x_train1)\n",
        "  etr.append(knn.score(x_train1,y_train1))\n",
        "  ets.append(knn.score(x_test1,y_test1))\n",
        "plt.plot(range(1,8),etr)\n",
        "plt.plot(range(1,8),ets,c=\"red\")\n",
        "plt.show()"
      ],
      "execution_count": 13,
      "outputs": [
        {
          "output_type": "display_data",
          "data": {
            "image/png": "[encoded data removed]",
            "text/plain": [
              "<Figure size 432x288 with 1 Axes>"
            ]
          },
          "metadata": {
            "tags": [],
            "needs_background": "light"
          }
        }
      ]
    },
    {
      "cell_type": "code",
      "metadata": {
        "id": "1Cis0Njm3zJm",
        "colab_type": "code",
        "colab": {
          "base_uri": "https://localhost:8080/",
          "height": 50
        },
        "outputId": "6823b790-e92a-4c18-b8f8-e9e681931505"
      },
      "source": [
        "pca1=PCA(n_components=3)\n",
        "xpca1=pca1.fit_transform(X)\n",
        "xtrain2,xtest2,ytrain2,ytest2=train_test_split(xpca1,Y,random_state=40)\n",
        "dmodel3= DecisionTreeClassifier(max_depth=2)\n",
        "dmodel3.fit(xtrain2,ytrain2)\n",
        "yp4=dmodel3.predict(xtrain2)\n",
        "print(dmodel3.score(xtrain2,ytrain2))\n",
        "print(dmodel3.score(xtest2,ytest2))"
      ],
      "execution_count": 14,
      "outputs": [
        {
          "output_type": "stream",
          "text": [
            "0.7465277777777778\n",
            "0.7447916666666666\n"
          ],
          "name": "stdout"
        }
      ]
    },
    {
      "cell_type": "code",
      "metadata": {
        "id": "FxK3GzAS4aGf",
        "colab_type": "code",
        "colab": {
          "base_uri": "https://localhost:8080/",
          "height": 34
        },
        "outputId": "7c01742e-241e-4d14-9317-1f0a450cdaca"
      },
      "source": [
        "#naive bayes\n",
        "from sklearn.naive_bayes import GaussianNB\n",
        "gnb=GaussianNB()\n",
        "xtrain3,xtest3,ytrain3,ytest3=train_test_split(X,Y,test_size=0.45,random_state=6)\n",
        "gnb.fit(xtrain3,ytrain3)\n",
        "y_predict=gnb.predict(xtest3)\n",
        "print(metrics.accuracy_score(ytest3,y_predict)*100)"
      ],
      "execution_count": 15,
      "outputs": [
        {
          "output_type": "stream",
          "text": [
            "76.01156069364163\n"
          ],
          "name": "stdout"
        }
      ]
    },
    {
      "cell_type": "code",
      "metadata": {
        "id": "1NlpxGrBUcwl",
        "colab_type": "code",
        "colab": {
          "base_uri": "https://localhost:8080/",
          "height": 138
        },
        "outputId": "cf9c2217-b494-4326-92ff-abe1157ec27d"
      },
      "source": [
        "#Standardscaler\n",
        "from sklearn.preprocessing import StandardScaler\n",
        "from sklearn.neural_network import MLPClassifier\n",
        "xtrain4,xtest4,ytrain4,ytest4=train_test_split(X,Y,test_size=0.2,random_state=21)\n",
        "sc=StandardScaler()\n",
        "X_str=sc.fit_transform(xtrain4)\n",
        "x_sts=sc.fit_transform(xtest4)\n",
        "mlp=MLPClassifier(random_state=0,alpha=1,max_iter=100)\n",
        "mlp.fit(X_str,ytrain4)\n",
        "mlp.fit(x_sts,ytest4)\n",
        "print(mlp.score(X_str,ytrain4))\n",
        "print(mlp.score(x_sts,ytest4))\n"
      ],
      "execution_count": 52,
      "outputs": [
        {
          "output_type": "stream",
          "text": [
            "0.7833876221498371\n",
            "0.8181818181818182\n"
          ],
          "name": "stdout"
        },
        {
          "output_type": "stream",
          "text": [
            "/usr/local/lib/python3.6/dist-packages/sklearn/neural_network/_multilayer_perceptron.py:571: ConvergenceWarning: Stochastic Optimizer: Maximum iterations (100) reached and the optimization hasn't converged yet.\n",
            "  % self.max_iter, ConvergenceWarning)\n",
            "/usr/local/lib/python3.6/dist-packages/sklearn/neural_network/_multilayer_perceptron.py:571: ConvergenceWarning: Stochastic Optimizer: Maximum iterations (100) reached and the optimization hasn't converged yet.\n",
            "  % self.max_iter, ConvergenceWarning)\n"
          ],
          "name": "stderr"
        }
      ]
    }
  ]
}